{
 "cells": [
  {
   "cell_type": "markdown",
   "metadata": {
    "application/vnd.databricks.v1+cell": {
     "cellMetadata": {},
     "inputWidgets": {},
     "nuid": "e486ca78-9a1d-4447-b94a-f680e4e57190",
     "showTitle": false,
     "tableResultSettingsMap": {},
     "title": ""
    }
   },
   "source": [
    "# Test Notebook (local)"
   ]
  },
  {
   "cell_type": "code",
   "execution_count": 0,
   "metadata": {
    "application/vnd.databricks.v1+cell": {
     "cellMetadata": {
      "byteLimit": 2048000,
      "implicitDf": true,
      "rowLimit": 10000
     },
     "inputWidgets": {},
     "nuid": "57ac39f1-8b47-4741-823b-19689356f8e4",
     "showTitle": false,
     "tableResultSettingsMap": {},
     "title": ""
    }
   },
   "outputs": [],
   "source": [
    "%sql\n",
    "select\n",
    "  *\n",
    "from\n",
    "  samples.nyctaxi.trips\n",
    "limit 10"
   ]
  },
  {
   "cell_type": "code",
   "execution_count": 0,
   "metadata": {
    "application/vnd.databricks.v1+cell": {
     "cellMetadata": {},
     "inputWidgets": {},
     "nuid": "2564f846-6167-40cf-bc7b-bd576e7340db",
     "showTitle": false,
     "tableResultSettingsMap": {},
     "title": ""
    }
   },
   "outputs": [],
   "source": [
    "%sh\n",
    "databricks --version"
   ]
  },
  {
   "cell_type": "code",
   "execution_count": 0,
   "metadata": {
    "application/vnd.databricks.v1+cell": {
     "cellMetadata": {},
     "inputWidgets": {},
     "nuid": "c98f746d-a142-4a5b-974f-a3716ba74c2a",
     "showTitle": false,
     "tableResultSettingsMap": {},
     "title": ""
    }
   },
   "outputs": [],
   "source": [
    "1+1"
   ]
  },
  {
   "cell_type": "code",
   "execution_count": 0,
   "metadata": {
    "application/vnd.databricks.v1+cell": {
     "cellMetadata": {},
     "inputWidgets": {},
     "nuid": "d8f71bfc-280c-4111-a2e4-fe501c8421ef",
     "showTitle": false,
     "tableResultSettingsMap": {},
     "title": ""
    }
   },
   "outputs": [],
   "source": [
    "import sklearn as sk\n",
    "\n",
    "sk.__version__"
   ]
  },
  {
   "cell_type": "code",
   "execution_count": 0,
   "metadata": {
    "application/vnd.databricks.v1+cell": {
     "cellMetadata": {},
     "inputWidgets": {},
     "nuid": "d2ce5db4-a465-41a0-a857-818ee0dbcb47",
     "showTitle": false,
     "tableResultSettingsMap": {},
     "title": ""
    }
   },
   "outputs": [],
   "source": [
    "%fs ls"
   ]
  },
  {
   "cell_type": "code",
   "execution_count": 0,
   "metadata": {
    "application/vnd.databricks.v1+cell": {
     "cellMetadata": {},
     "inputWidgets": {},
     "nuid": "636a6164-dd6a-4bc7-a325-69ef92ac5804",
     "showTitle": false,
     "tableResultSettingsMap": {},
     "title": ""
    }
   },
   "outputs": [],
   "source": [
    "#dbutils.fs.ls('dbfs:/mnt/data/export_models/')\n",
    "dbutils.fs.ls('dbfs:/mnt/Users')"
   ]
  },
  {
   "cell_type": "code",
   "execution_count": 0,
   "metadata": {
    "application/vnd.databricks.v1+cell": {
     "cellMetadata": {},
     "inputWidgets": {},
     "nuid": "3062bd4a-c715-4244-ba91-0e15604ab2c4",
     "showTitle": false,
     "tableResultSettingsMap": {},
     "title": ""
    }
   },
   "outputs": [],
   "source": [
    "num_terms = 1000000\n",
    "pi = 0\n",
    "for i in range(num_terms):\n",
    "    denominator = 2 * i + 1\n",
    "    term = 4 / denominator * (-1) ** i\n",
    "    pi += term\n",
    "\n",
    "print(pi)"
   ]
  },
  {
   "cell_type": "code",
   "execution_count": 0,
   "metadata": {
    "application/vnd.databricks.v1+cell": {
     "cellMetadata": {},
     "inputWidgets": {},
     "nuid": "542afcfc-31c4-459d-a117-7118120afd2b",
     "showTitle": false,
     "tableResultSettingsMap": {},
     "title": ""
    }
   },
   "outputs": [],
   "source": [
    "import math\n",
    "\n",
    "pi = round(math.pi, 10)\n",
    "print(pi)"
   ]
  },
  {
   "cell_type": "code",
   "execution_count": 0,
   "metadata": {
    "application/vnd.databricks.v1+cell": {
     "cellMetadata": {},
     "inputWidgets": {},
     "nuid": "d7a4eecd-37e6-4b36-8c45-ffc7ffcff849",
     "showTitle": false,
     "tableResultSettingsMap": {},
     "title": ""
    }
   },
   "outputs": [],
   "source": [
    "# generate a random string of 10 characters\n",
    "import uuid\n",
    "uuid.uuid4().hex[:10]\n"
   ]
  },
  {
   "cell_type": "code",
   "execution_count": 0,
   "metadata": {
    "application/vnd.databricks.v1+cell": {
     "cellMetadata": {},
     "inputWidgets": {},
     "nuid": "6aced211-41ac-497a-9ec3-4bea6b300de2",
     "showTitle": false,
     "tableResultSettingsMap": {},
     "title": ""
    }
   },
   "outputs": [],
   "source": [
    "spark.conf.set(\"spark.securitymanager.enabled\", False)\n",
    "display(spark.sql(\"show tables\").filter(\"upper(tableName) like '%G%'\").limit(10))"
   ]
  },
  {
   "cell_type": "markdown",
   "metadata": {
    "application/vnd.databricks.v1+cell": {
     "cellMetadata": {},
     "inputWidgets": {},
     "nuid": "f05ca074-bde2-4965-9ede-91276b06c426",
     "showTitle": false,
     "tableResultSettingsMap": {},
     "title": ""
    }
   },
   "source": [
    "## header 2"
   ]
  },
  {
   "cell_type": "code",
   "execution_count": 0,
   "metadata": {
    "application/vnd.databricks.v1+cell": {
     "cellMetadata": {},
     "inputWidgets": {},
     "nuid": "170a0c4c-4e50-4d97-a8a4-0a67fcb4dbba",
     "showTitle": false,
     "tableResultSettingsMap": {},
     "title": ""
    }
   },
   "outputs": [],
   "source": [
    "%sql\n",
    "show catalogs like 'guido*';"
   ]
  },
  {
   "cell_type": "code",
   "execution_count": 0,
   "metadata": {
    "application/vnd.databricks.v1+cell": {
     "cellMetadata": {},
     "inputWidgets": {},
     "nuid": "011ce3ee-ca5d-4256-9a46-b0c5d6b24f70",
     "showTitle": false,
     "tableResultSettingsMap": {},
     "title": ""
    }
   },
   "outputs": [],
   "source": [
    "%sql\n",
    "use catalog guido;"
   ]
  },
  {
   "cell_type": "markdown",
   "metadata": {
    "application/vnd.databricks.v1+cell": {
     "cellMetadata": {},
     "inputWidgets": {},
     "nuid": "307d11de-88af-4050-89c8-a767b124c2bd",
     "showTitle": false,
     "tableResultSettingsMap": {},
     "title": ""
    }
   },
   "source": [
    "## onother headline comes here..."
   ]
  },
  {
   "cell_type": "code",
   "execution_count": 0,
   "metadata": {
    "application/vnd.databricks.v1+cell": {
     "cellMetadata": {},
     "inputWidgets": {},
     "nuid": "94ebde1c-7e1f-4241-9017-3baac96cc211",
     "showTitle": false,
     "tableResultSettingsMap": {},
     "title": ""
    }
   },
   "outputs": [],
   "source": [
    "%sql\n",
    "SELECT current_catalog();"
   ]
  },
  {
   "cell_type": "code",
   "execution_count": 0,
   "metadata": {
    "application/vnd.databricks.v1+cell": {
     "cellMetadata": {},
     "inputWidgets": {},
     "nuid": "1a49ee9e-a949-479f-becb-2fa8c7e7e2e5",
     "showTitle": false,
     "tableResultSettingsMap": {},
     "title": ""
    }
   },
   "outputs": [],
   "source": [
    "%sql\n",
    "show databases;"
   ]
  },
  {
   "cell_type": "code",
   "execution_count": 0,
   "metadata": {
    "application/vnd.databricks.v1+cell": {
     "cellMetadata": {},
     "inputWidgets": {},
     "nuid": "f80c4a79-8888-4803-a9ed-806ee894d9dc",
     "showTitle": false,
     "tableResultSettingsMap": {},
     "title": ""
    }
   },
   "outputs": [],
   "source": [
    "%sql\n",
    "select * from samples.nyctaxi.trips limit 10;"
   ]
  },
  {
   "cell_type": "code",
   "execution_count": 0,
   "metadata": {
    "application/vnd.databricks.v1+cell": {
     "cellMetadata": {},
     "inputWidgets": {},
     "nuid": "4c161ee5-0d72-4ff3-a640-355c524fbc21",
     "showTitle": false,
     "tableResultSettingsMap": {},
     "title": ""
    }
   },
   "outputs": [],
   "source": [
    "df = spark.table(\"samples.nyctaxi.trips\").limit(10)\n",
    "display(df)"
   ]
  },
  {
   "cell_type": "code",
   "execution_count": 0,
   "metadata": {
    "application/vnd.databricks.v1+cell": {
     "cellMetadata": {},
     "inputWidgets": {},
     "nuid": "2f0f3649-9b31-4eb7-baba-dabd010365cf",
     "showTitle": false,
     "tableResultSettingsMap": {},
     "title": ""
    }
   },
   "outputs": [],
   "source": [
    "%pip install -U sentence-transformers"
   ]
  },
  {
   "cell_type": "code",
   "execution_count": 0,
   "metadata": {
    "application/vnd.databricks.v1+cell": {
     "cellMetadata": {},
     "inputWidgets": {},
     "nuid": "e57ed5e6-5877-48ec-b528-0b6d9d7d382f",
     "showTitle": false,
     "tableResultSettingsMap": {},
     "title": ""
    }
   },
   "outputs": [],
   "source": [
    "from sentence_transformers import SentenceTransformer"
   ]
  },
  {
   "cell_type": "code",
   "execution_count": 0,
   "metadata": {
    "application/vnd.databricks.v1+cell": {
     "cellMetadata": {},
     "inputWidgets": {},
     "nuid": "d256c141-21c1-4b4a-8930-71ce921b2426",
     "showTitle": false,
     "tableResultSettingsMap": {},
     "title": ""
    }
   },
   "outputs": [],
   "source": [
    "#load pretrained transformer model\n",
    "model = SentenceTransformer('all-MiniLM-L6-v2')\n",
    "\n",
    "#the sentences to encode\n",
    "sentences = [\n",
    "  \"This is a sentence\",\n",
    "  \"This is another sentence\",\n",
    "  \"This is a third sentence\"\n",
    "  ]\n",
    "\n",
    "#calculate embeddinggs calling sentences.encode\n",
    "embeddings = model.encode(sentences)\n",
    "print(embeddings.shape)"
   ]
  },
  {
   "cell_type": "code",
   "execution_count": 0,
   "metadata": {
    "application/vnd.databricks.v1+cell": {
     "cellMetadata": {},
     "inputWidgets": {},
     "nuid": "2562445c-919c-41ea-abc8-a306b2121a7e",
     "showTitle": false,
     "tableResultSettingsMap": {},
     "title": ""
    }
   },
   "outputs": [],
   "source": [
    "from faker import Faker\n",
    "import pandas as pd\n",
    "\n",
    "# Initialize Faker\n",
    "fake = Faker()\n",
    "\n",
    "# Generate fake data for a CRM database\n",
    "def generate_customers(n=1000):\n",
    "    customers = [{\n",
    "        \"customer_id\": i,\n",
    "        \"first_name\": fake.first_name(),\n",
    "        \"last_name\": fake.last_name(),\n",
    "        \"email\": fake.email(),\n",
    "        \"phone\": fake.phone_number()\n",
    "    } for i in range(1, n + 1)]\n",
    "    return pd.DataFrame(customers)\n",
    "\n",
    "def generate_orders(n=300, customer_count=1000):\n",
    "    orders = [{\n",
    "        \"order_id\": i,\n",
    "        \"customer_id\": fake.random_int(min=1, max=customer_count),\n",
    "        \"order_date\": fake.date_this_year(),\n",
    "        \"amount\": round(fake.random_number(digits=5), 2)\n",
    "    } for i in range(1, n + 1)]\n",
    "    return pd.DataFrame(orders)\n",
    "\n",
    "def generate_interactions(n=500, customer_count=1000):\n",
    "    interactions = [{\n",
    "        \"interaction_id\": i,\n",
    "        \"customer_id\": fake.random_int(min=1, max=customer_count),\n",
    "        \"interaction_date\": fake.date_this_year(),\n",
    "        \"channel\": fake.random_element(elements=(\"Email\", \"Phone\", \"In Person\", \"Social Media\")),\n",
    "        \"notes\": fake.text(max_nb_chars=200)\n",
    "    } for i in range(1, n + 1)]\n",
    "    return pd.DataFrame(interactions)\n",
    "\n",
    "# Create DataFrames\n",
    "customers_df = generate_customers()\n",
    "orders_df = generate_orders()\n",
    "interactions_df = generate_interactions()\n",
    "\n",
    "# Convert DataFrames to Spark DataFrames\n",
    "customers_sdf = spark.createDataFrame(customers_df)\n",
    "orders_sdf = spark.createDataFrame(orders_df)\n",
    "interactions_sdf = spark.createDataFrame(interactions_df)\n",
    "\n",
    "# Display the Spark DataFrames\n",
    "display(customers_sdf)\n",
    "display(orders_sdf)\n",
    "display(interactions_sdf)\n",
    "\n",
    "# Save the Spark DataFrames to the guido.default database\n",
    "customers_sdf.write.format(\"delta\").mode(\"overwrite\").saveAsTable(\"guido.default.customers\")\n",
    "orders_sdf.write.format(\"delta\").mode(\"overwrite\").saveAsTable(\"guido.default.orders\")\n",
    "interactions_sdf.write.format(\"delta\").mode(\"overwrite\").saveAsTable(\"guido.default.interactions\")"
   ]
  },
  {
   "cell_type": "code",
   "execution_count": 0,
   "metadata": {
    "application/vnd.databricks.v1+cell": {
     "cellMetadata": {},
     "inputWidgets": {},
     "nuid": "7d7dcd58-53f2-4ad6-9997-4d70a1934131",
     "showTitle": false,
     "tableResultSettingsMap": {},
     "title": ""
    }
   },
   "outputs": [],
   "source": [
    "%pip install mlflow databricks-agents\n",
    "dbutils.library.restartPython()"
   ]
  },
  {
   "cell_type": "code",
   "execution_count": 0,
   "metadata": {
    "application/vnd.databricks.v1+cell": {
     "cellMetadata": {},
     "inputWidgets": {},
     "nuid": "3295aa25-9e42-4fa6-9d6d-cef127dae472",
     "showTitle": false,
     "tableResultSettingsMap": {},
     "title": ""
    }
   },
   "outputs": [],
   "source": [
    "import mlflow\n",
    "import pandas as pd\n",
    "\n",
    "# Load your model from MLflow\n",
    "logged_model = mlflow.pyfunc.load_model(model_uri=\"models:/basic_rag_bot_Content_discovery/1\")\n",
    "\n",
    "examples =  {\n",
    "    \"request\": [\n",
    "      {\n",
    "      # Recommended `messages` format\n",
    "        \"messages\": [{\n",
    "          \"role\": \"user\",\n",
    "          \"content\": \"Spark is a data analytics framework.\"\n",
    "        }],\n",
    "      },\n",
    "      # Primitive string format\n",
    "      # Note: Using a primitive string is discouraged. The string will be wrapped in the\n",
    "      # OpenAI messages format before being passed to your agent.\n",
    "      \"How do I convert a Spark DataFrame to Pandas?\"\n",
    "    ],\n",
    "    \"response\": [\n",
    "        \"Spark is a data analytics framework.\",\n",
    "        \"This is not possible as Spark is not a panda.\",\n",
    "    ],\n",
    "    \"retrieved_context\": [ # Optional, needed for judging groundedness.\n",
    "        [{\"doc_uri\": \"doc1.txt\", \"content\": \"In 2013, Spark, a data analytics framework, was open sourced by UC Berkeley's AMPLab.\"}],\n",
    "        [{\"doc_uri\": \"doc2.txt\", \"content\": \"To convert a Spark DataFrame to Pandas, you can use toPandas()\"}],\n",
    "    ],\n",
    "    \"expected_response\": [ # Optional, needed for judging correctness.\n",
    "        \"Spark is a data analytics framework.\",\n",
    "        \"To convert a Spark DataFrame to Pandas, you can use the toPandas() method.\",\n",
    "    ]\n",
    "}\n",
    "\n",
    "result = mlflow.evaluate(\n",
    "    data=pd.DataFrame(examples),    # Your evaluation set\n",
    "    model=logged_model.model_uri, # If you have an MLFlow model. `retrieved_context` and `response` will be obtained from calling the model.\n",
    "    model_type=\"databricks-agent\",  # Enable Mosaic AI Agent Evaluation\n",
    ")\n",
    "\n",
    "# Review the evaluation results in the MLFLow UI (see console output), or access them in place:\n",
    "display(result.tables['eval_results'])"
   ]
  }
 ],
 "metadata": {
  "application/vnd.databricks.v1+notebook": {
   "computePreferences": {
    "hardware": {
     "accelerator": null,
     "gpuPoolId": null,
     "memory": null
    }
   },
   "dashboards": [],
   "environmentMetadata": {
    "base_environment": "",
    "environment_version": "4"
   },
   "inputWidgetPreferences": null,
   "language": "python",
   "notebookMetadata": {
    "mostRecentlyExecutedCommandWithImplicitDF": {
     "commandId": 5005340994532230,
     "dataframes": [
      "_sqldf"
     ]
    },
    "pythonIndentUnit": 4
   },
   "notebookName": "TEST",
   "widgets": {}
  },
  "language_info": {
   "name": "python"
  }
 },
 "nbformat": 4,
 "nbformat_minor": 0
}
